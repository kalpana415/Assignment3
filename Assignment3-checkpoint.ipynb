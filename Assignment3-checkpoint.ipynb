{
 "cells": [
  {
   "cell_type": "code",
   "execution_count": 1,
   "metadata": {},
   "outputs": [],
   "source": [
    "def compute_dev(n,d):\n",
    "    try:\n",
    "        result= n/d\n",
    "    except Exception as out:\n",
    "        print(\"There is a failure in the program\" + \" Error: \" + str(out))\n",
    "    else:\n",
    "        print(\"The divison program is completed\" + \" output is: \" + str(result))"
   ]
  },
  {
   "cell_type": "code",
   "execution_count": 2,
   "metadata": {},
   "outputs": [
    {
     "name": "stdout",
     "output_type": "stream",
     "text": [
      "The divison program is completed output is: 1.6666666666666667\n"
     ]
    }
   ],
   "source": [
    "compute_dev(5,3)"
   ]
  },
  {
   "cell_type": "code",
   "execution_count": 4,
   "metadata": {},
   "outputs": [
    {
     "name": "stdout",
     "output_type": "stream",
     "text": [
      "There is a failure in the program Error: division by zero\n"
     ]
    }
   ],
   "source": [
    "compute_dev(5,0)"
   ]
  },
  {
   "cell_type": "code",
   "execution_count": 5,
   "metadata": {},
   "outputs": [
    {
     "name": "stdout",
     "output_type": "stream",
     "text": [
      "Americans Play Baseball\n",
      "Americans Play cricket\n",
      "Americans watch Baseball\n",
      "Americans watch cricket\n",
      "Indians Play Baseball\n",
      "Indians Play cricket\n",
      "Indians watch Baseball\n",
      "Indians watch cricket\n"
     ]
    }
   ],
   "source": [
    "subject = [\"Americans\",\"Indians\"] \n",
    "verb = [\"Play\", \"watch\"]\n",
    "objects = [\"Baseball\",\"cricket\"]\n",
    "\n",
    "for sub in subject:\n",
    "    for ver in verb:\n",
    "        for obj in objects:\n",
    "            out_statement=str(sub) + \" \" + ver + \" \" + obj\n",
    "            print(out_statement)"
   ]
  },
  {
   "cell_type": "code",
   "execution_count": 11,
   "metadata": {},
   "outputs": [
    {
     "name": "stdout",
     "output_type": "stream",
     "text": [
      "Input Array : \n",
      "  [1 2 3 4 5]\n",
      "Outpt matrix in decreasing order :\n",
      " [[ 1  1  1]\n",
      " [ 4  2  1]\n",
      " [ 9  3  1]\n",
      " [16  4  1]\n",
      " [25  5  1]]\n",
      "Output matrix in increasing order :\n",
      " [[ 1  1  1]\n",
      " [ 1  2  4]\n",
      " [ 1  3  9]\n",
      " [ 1  4 16]\n",
      " [ 1  5 25]]\n"
     ]
    }
   ],
   "source": [
    "import numpy as np\n",
    "   \n",
    "def gen_matrix(ipvector, n, increasing=False):\n",
    "    \n",
    "    if not increasing:\n",
    "        op_matx = np.array([x**(n-1-i) for x in ipvector for i in range(n)]).reshape(ipvector.size,n)\n",
    "    elif increasing:\n",
    "        op_matx = np.array([x**i for x in ipvector for i in range(n)]).reshape(ipvector.size,n)\n",
    "    return op_matx\n",
    "\n",
    "inputvector = np.array([1,2,3,4,5])\n",
    "no_col_opmat = 3\n",
    "op_matx_dec_order = gen_matrix(inputvector,no_col_opmat,False)\n",
    "op_matx_inc_order = gen_matrix(inputvector,no_col_opmat,True)\n",
    "\n",
    "print(\"Input Array : \\n \",inputvector)\n",
    "print(\"Outpt matrix in decreasing order :\\n\",op_matx_dec_order)\n",
    "print(\"Output matrix in increasing order :\\n\",op_matx_inc_order)"
   ]
  },
  {
   "cell_type": "code",
   "execution_count": null,
   "metadata": {},
   "outputs": [],
   "source": []
  }
 ],
 "metadata": {
  "kernelspec": {
   "display_name": "Python 3",
   "language": "python",
   "name": "python3"
  },
  "language_info": {
   "codemirror_mode": {
    "name": "ipython",
    "version": 3
   },
   "file_extension": ".py",
   "mimetype": "text/x-python",
   "name": "python",
   "nbconvert_exporter": "python",
   "pygments_lexer": "ipython3",
   "version": "3.7.6"
  }
 },
 "nbformat": 4,
 "nbformat_minor": 4
}
